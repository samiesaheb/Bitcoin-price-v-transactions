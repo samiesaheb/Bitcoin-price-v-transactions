{
 "cells": [
  {
   "cell_type": "markdown",
   "id": "28ba417a",
   "metadata": {},
   "source": [
    "# Comparison of Bitcoin price (in USD) with the number of transactions\n",
    "After reading this [blog](https://www.swanbitcoin.com/how-much-of-the-worlds-population-owns-bitcoin-today/) about how much of the world's population owns Bitcoin today. I was struck by how Callahan said that \"an early Bitcoin investor, Wences Casares [observed] that...the amount of users of the Bitcoin network is directly proportional to the bitcoin price.\" To test this hypotheses I set out on analyzing the price of Bitcoin for the last five years and comparing it with the number of transactions.\n"
   ]
  },
  {
   "cell_type": "code",
   "execution_count": 85,
   "id": "0100af73",
   "metadata": {},
   "outputs": [],
   "source": [
    "import pandas as pd\n",
    "import matplotlib.pyplot as plt\n",
    "import numpy as np\n",
    "import tensorflow as tf\n",
    "from sklearn.linear_model import LinearRegression"
   ]
  },
  {
   "cell_type": "code",
   "execution_count": 41,
   "id": "6b5ffd7f",
   "metadata": {},
   "outputs": [],
   "source": [
    "transactions = pd.read_csv(\"n-transactions\")"
   ]
  },
  {
   "cell_type": "markdown",
   "id": "7f69a75c",
   "metadata": {},
   "source": [
    "csv can be downloaded from [here](https://studio.glassnode.com/metrics?a=BTC&m=addresses.ActiveCount&upgradePlan=advanced)"
   ]
  },
  {
   "cell_type": "code",
   "execution_count": 42,
   "id": "12231b5c",
   "metadata": {},
   "outputs": [],
   "source": [
    "transactions[\"Timestamp\"] = pd.to_datetime(transactions[\"Timestamp\"]).dt.date"
   ]
  },
  {
   "cell_type": "code",
   "execution_count": 43,
   "id": "24d2a0d2",
   "metadata": {},
   "outputs": [],
   "source": [
    "transactions = transactions.rename(columns={\"Timestamp\":\"Date\",\"n-transactions\":\"Transactions\"})"
   ]
  },
  {
   "cell_type": "code",
   "execution_count": 44,
   "id": "df6b2ea8",
   "metadata": {},
   "outputs": [],
   "source": [
    "transactions.index = transactions.pop('Date')"
   ]
  },
  {
   "cell_type": "code",
   "execution_count": 45,
   "id": "d9f8e54d",
   "metadata": {},
   "outputs": [
    {
     "data": {
      "text/plain": [
       "pandas.core.frame.DataFrame"
      ]
     },
     "execution_count": 45,
     "metadata": {},
     "output_type": "execute_result"
    }
   ],
   "source": [
    "# transactions\n",
    "type(transactions)"
   ]
  },
  {
   "cell_type": "code",
   "execution_count": 51,
   "id": "81552af5",
   "metadata": {},
   "outputs": [],
   "source": [
    "btc = pd.read_csv(\"btc.csv\")"
   ]
  },
  {
   "cell_type": "markdown",
   "id": "dddace20",
   "metadata": {},
   "source": [
    "csv can be downloaded from [here](https://finance.yahoo.com/quote/BTC-USD/history?p=BTC-USD)"
   ]
  },
  {
   "cell_type": "code",
   "execution_count": 52,
   "id": "c50a2678",
   "metadata": {},
   "outputs": [],
   "source": [
    "btc[\"Date\"] = pd.to_datetime(btc[\"Date\"])"
   ]
  },
  {
   "cell_type": "code",
   "execution_count": 53,
   "id": "7262c918",
   "metadata": {},
   "outputs": [
    {
     "data": {
      "text/plain": [
       "pandas.core.frame.DataFrame"
      ]
     },
     "execution_count": 53,
     "metadata": {},
     "output_type": "execute_result"
    }
   ],
   "source": [
    "type(btc)"
   ]
  },
  {
   "cell_type": "code",
   "execution_count": 54,
   "id": "c18e3510",
   "metadata": {},
   "outputs": [],
   "source": [
    "btc.index = btc.pop(\"Date\")\n",
    "btc = btc.rename(columns={\"Close\":\"Price\"})\n",
    "btc = pd.DataFrame(btc[\"Price\"])"
   ]
  },
  {
   "cell_type": "code",
   "execution_count": 55,
   "id": "10db18f7",
   "metadata": {},
   "outputs": [
    {
     "data": {
      "text/plain": [
       "pandas.core.frame.DataFrame"
      ]
     },
     "execution_count": 55,
     "metadata": {},
     "output_type": "execute_result"
    }
   ],
   "source": [
    "type(btc)"
   ]
  },
  {
   "cell_type": "code",
   "execution_count": 56,
   "id": "9b9900c4",
   "metadata": {},
   "outputs": [],
   "source": [
    "df = btc.join(transactions)"
   ]
  },
  {
   "cell_type": "code",
   "execution_count": 57,
   "id": "23d051b1",
   "metadata": {},
   "outputs": [
    {
     "data": {
      "text/html": [
       "<div>\n",
       "<style scoped>\n",
       "    .dataframe tbody tr th:only-of-type {\n",
       "        vertical-align: middle;\n",
       "    }\n",
       "\n",
       "    .dataframe tbody tr th {\n",
       "        vertical-align: top;\n",
       "    }\n",
       "\n",
       "    .dataframe thead th {\n",
       "        text-align: right;\n",
       "    }\n",
       "</style>\n",
       "<table border=\"1\" class=\"dataframe\">\n",
       "  <thead>\n",
       "    <tr style=\"text-align: right;\">\n",
       "      <th></th>\n",
       "      <th>Price</th>\n",
       "      <th>Transactions</th>\n",
       "    </tr>\n",
       "    <tr>\n",
       "      <th>Date</th>\n",
       "      <th></th>\n",
       "      <th></th>\n",
       "    </tr>\n",
       "  </thead>\n",
       "  <tbody>\n",
       "    <tr>\n",
       "      <th>2017-06-06</th>\n",
       "      <td>2863.199951</td>\n",
       "      <td>NaN</td>\n",
       "    </tr>\n",
       "    <tr>\n",
       "      <th>2017-06-07</th>\n",
       "      <td>2732.159912</td>\n",
       "      <td>339720.0</td>\n",
       "    </tr>\n",
       "    <tr>\n",
       "      <th>2017-06-08</th>\n",
       "      <td>2805.620117</td>\n",
       "      <td>NaN</td>\n",
       "    </tr>\n",
       "    <tr>\n",
       "      <th>2017-06-09</th>\n",
       "      <td>2823.810059</td>\n",
       "      <td>NaN</td>\n",
       "    </tr>\n",
       "    <tr>\n",
       "      <th>2017-06-10</th>\n",
       "      <td>2947.709961</td>\n",
       "      <td>254993.0</td>\n",
       "    </tr>\n",
       "    <tr>\n",
       "      <th>...</th>\n",
       "      <td>...</td>\n",
       "      <td>...</td>\n",
       "    </tr>\n",
       "    <tr>\n",
       "      <th>2022-06-02</th>\n",
       "      <td>30467.488281</td>\n",
       "      <td>264901.0</td>\n",
       "    </tr>\n",
       "    <tr>\n",
       "      <th>2022-06-03</th>\n",
       "      <td>29704.390625</td>\n",
       "      <td>NaN</td>\n",
       "    </tr>\n",
       "    <tr>\n",
       "      <th>2022-06-04</th>\n",
       "      <td>29832.914063</td>\n",
       "      <td>NaN</td>\n",
       "    </tr>\n",
       "    <tr>\n",
       "      <th>2022-06-05</th>\n",
       "      <td>29906.662109</td>\n",
       "      <td>201341.0</td>\n",
       "    </tr>\n",
       "    <tr>\n",
       "      <th>2022-06-06</th>\n",
       "      <td>31380.208984</td>\n",
       "      <td>NaN</td>\n",
       "    </tr>\n",
       "  </tbody>\n",
       "</table>\n",
       "<p>1827 rows × 2 columns</p>\n",
       "</div>"
      ],
      "text/plain": [
       "                   Price  Transactions\n",
       "Date                                  \n",
       "2017-06-06   2863.199951           NaN\n",
       "2017-06-07   2732.159912      339720.0\n",
       "2017-06-08   2805.620117           NaN\n",
       "2017-06-09   2823.810059           NaN\n",
       "2017-06-10   2947.709961      254993.0\n",
       "...                  ...           ...\n",
       "2022-06-02  30467.488281      264901.0\n",
       "2022-06-03  29704.390625           NaN\n",
       "2022-06-04  29832.914063           NaN\n",
       "2022-06-05  29906.662109      201341.0\n",
       "2022-06-06  31380.208984           NaN\n",
       "\n",
       "[1827 rows x 2 columns]"
      ]
     },
     "execution_count": 57,
     "metadata": {},
     "output_type": "execute_result"
    }
   ],
   "source": [
    "df"
   ]
  },
  {
   "cell_type": "markdown",
   "id": "3fcd154b",
   "metadata": {},
   "source": [
    "There are a lot of null values for the transactions, in order to account for this I will drop all the null values below"
   ]
  },
  {
   "cell_type": "code",
   "execution_count": 58,
   "id": "b5bacd3d",
   "metadata": {},
   "outputs": [
    {
     "data": {
      "text/plain": [
       "(pandas.core.frame.DataFrame, pandas.core.frame.DataFrame)"
      ]
     },
     "execution_count": 58,
     "metadata": {},
     "output_type": "execute_result"
    }
   ],
   "source": [
    "(type(y),\n",
    "type(X))"
   ]
  },
  {
   "cell_type": "code",
   "execution_count": 59,
   "id": "cd316551",
   "metadata": {},
   "outputs": [
    {
     "data": {
      "text/html": [
       "<div>\n",
       "<style scoped>\n",
       "    .dataframe tbody tr th:only-of-type {\n",
       "        vertical-align: middle;\n",
       "    }\n",
       "\n",
       "    .dataframe tbody tr th {\n",
       "        vertical-align: top;\n",
       "    }\n",
       "\n",
       "    .dataframe thead th {\n",
       "        text-align: right;\n",
       "    }\n",
       "</style>\n",
       "<table border=\"1\" class=\"dataframe\">\n",
       "  <thead>\n",
       "    <tr style=\"text-align: right;\">\n",
       "      <th></th>\n",
       "      <th>Price</th>\n",
       "      <th>Transactions</th>\n",
       "    </tr>\n",
       "  </thead>\n",
       "  <tbody>\n",
       "    <tr>\n",
       "      <th>count</th>\n",
       "      <td>1827.000000</td>\n",
       "      <td>609.000000</td>\n",
       "    </tr>\n",
       "    <tr>\n",
       "      <th>mean</th>\n",
       "      <td>18736.539679</td>\n",
       "      <td>278894.216749</td>\n",
       "    </tr>\n",
       "    <tr>\n",
       "      <th>std</th>\n",
       "      <td>17621.459152</td>\n",
       "      <td>54235.505486</td>\n",
       "    </tr>\n",
       "    <tr>\n",
       "      <th>min</th>\n",
       "      <td>1929.819946</td>\n",
       "      <td>135274.000000</td>\n",
       "    </tr>\n",
       "    <tr>\n",
       "      <th>25%</th>\n",
       "      <td>6648.179931</td>\n",
       "      <td>238634.000000</td>\n",
       "    </tr>\n",
       "    <tr>\n",
       "      <th>50%</th>\n",
       "      <td>9522.981445</td>\n",
       "      <td>280805.000000</td>\n",
       "    </tr>\n",
       "    <tr>\n",
       "      <th>75%</th>\n",
       "      <td>33734.515625</td>\n",
       "      <td>317597.000000</td>\n",
       "    </tr>\n",
       "    <tr>\n",
       "      <th>max</th>\n",
       "      <td>67566.828125</td>\n",
       "      <td>439549.000000</td>\n",
       "    </tr>\n",
       "  </tbody>\n",
       "</table>\n",
       "</div>"
      ],
      "text/plain": [
       "              Price   Transactions\n",
       "count   1827.000000     609.000000\n",
       "mean   18736.539679  278894.216749\n",
       "std    17621.459152   54235.505486\n",
       "min     1929.819946  135274.000000\n",
       "25%     6648.179931  238634.000000\n",
       "50%     9522.981445  280805.000000\n",
       "75%    33734.515625  317597.000000\n",
       "max    67566.828125  439549.000000"
      ]
     },
     "execution_count": 59,
     "metadata": {},
     "output_type": "execute_result"
    }
   ],
   "source": [
    "df.describe()"
   ]
  },
  {
   "cell_type": "code",
   "execution_count": 60,
   "id": "ba59a430",
   "metadata": {},
   "outputs": [],
   "source": [
    "df = df.dropna()"
   ]
  },
  {
   "cell_type": "markdown",
   "id": "e0d4f30b",
   "metadata": {},
   "source": [
    "Dropping all the null values the dataframe looks like this"
   ]
  },
  {
   "cell_type": "code",
   "execution_count": 89,
   "id": "17aba38e",
   "metadata": {},
   "outputs": [
    {
     "data": {
      "text/html": [
       "<div>\n",
       "<style scoped>\n",
       "    .dataframe tbody tr th:only-of-type {\n",
       "        vertical-align: middle;\n",
       "    }\n",
       "\n",
       "    .dataframe tbody tr th {\n",
       "        vertical-align: top;\n",
       "    }\n",
       "\n",
       "    .dataframe thead th {\n",
       "        text-align: right;\n",
       "    }\n",
       "</style>\n",
       "<table border=\"1\" class=\"dataframe\">\n",
       "  <thead>\n",
       "    <tr style=\"text-align: right;\">\n",
       "      <th></th>\n",
       "      <th>Price</th>\n",
       "      <th>Transactions</th>\n",
       "    </tr>\n",
       "    <tr>\n",
       "      <th>Date</th>\n",
       "      <th></th>\n",
       "      <th></th>\n",
       "    </tr>\n",
       "  </thead>\n",
       "  <tbody>\n",
       "    <tr>\n",
       "      <th>2017-06-07</th>\n",
       "      <td>2732.159912</td>\n",
       "      <td>339720.0</td>\n",
       "    </tr>\n",
       "    <tr>\n",
       "      <th>2017-06-10</th>\n",
       "      <td>2947.709961</td>\n",
       "      <td>254993.0</td>\n",
       "    </tr>\n",
       "    <tr>\n",
       "      <th>2017-06-13</th>\n",
       "      <td>2717.020020</td>\n",
       "      <td>291776.0</td>\n",
       "    </tr>\n",
       "    <tr>\n",
       "      <th>2017-06-16</th>\n",
       "      <td>2518.560059</td>\n",
       "      <td>269937.0</td>\n",
       "    </tr>\n",
       "    <tr>\n",
       "      <th>2017-06-19</th>\n",
       "      <td>2589.600098</td>\n",
       "      <td>269774.0</td>\n",
       "    </tr>\n",
       "    <tr>\n",
       "      <th>...</th>\n",
       "      <td>...</td>\n",
       "      <td>...</td>\n",
       "    </tr>\n",
       "    <tr>\n",
       "      <th>2022-05-24</th>\n",
       "      <td>29655.585938</td>\n",
       "      <td>235866.0</td>\n",
       "    </tr>\n",
       "    <tr>\n",
       "      <th>2022-05-27</th>\n",
       "      <td>28627.574219</td>\n",
       "      <td>270453.0</td>\n",
       "    </tr>\n",
       "    <tr>\n",
       "      <th>2022-05-30</th>\n",
       "      <td>31726.390625</td>\n",
       "      <td>271819.0</td>\n",
       "    </tr>\n",
       "    <tr>\n",
       "      <th>2022-06-02</th>\n",
       "      <td>30467.488281</td>\n",
       "      <td>264901.0</td>\n",
       "    </tr>\n",
       "    <tr>\n",
       "      <th>2022-06-05</th>\n",
       "      <td>29906.662109</td>\n",
       "      <td>201341.0</td>\n",
       "    </tr>\n",
       "  </tbody>\n",
       "</table>\n",
       "<p>609 rows × 2 columns</p>\n",
       "</div>"
      ],
      "text/plain": [
       "                   Price  Transactions\n",
       "Date                                  \n",
       "2017-06-07   2732.159912      339720.0\n",
       "2017-06-10   2947.709961      254993.0\n",
       "2017-06-13   2717.020020      291776.0\n",
       "2017-06-16   2518.560059      269937.0\n",
       "2017-06-19   2589.600098      269774.0\n",
       "...                  ...           ...\n",
       "2022-05-24  29655.585938      235866.0\n",
       "2022-05-27  28627.574219      270453.0\n",
       "2022-05-30  31726.390625      271819.0\n",
       "2022-06-02  30467.488281      264901.0\n",
       "2022-06-05  29906.662109      201341.0\n",
       "\n",
       "[609 rows x 2 columns]"
      ]
     },
     "execution_count": 89,
     "metadata": {},
     "output_type": "execute_result"
    }
   ],
   "source": [
    "df"
   ]
  },
  {
   "cell_type": "code",
   "execution_count": 61,
   "id": "4cf0e8f4",
   "metadata": {},
   "outputs": [],
   "source": [
    "X = pd.DataFrame(df[\"Transactions\"])\n",
    "y = pd.DataFrame(df[\"Price\"])"
   ]
  },
  {
   "cell_type": "markdown",
   "id": "b64f1c87",
   "metadata": {},
   "source": [
    "took inspiration from [this](https://www.statology.org/matplotlib-two-y-axes/) website for the plot below."
   ]
  },
  {
   "cell_type": "code",
   "execution_count": 95,
   "id": "28b7eb00",
   "metadata": {},
   "outputs": [
    {
     "data": {
      "text/plain": [
       "Text(0, 0.5, 'BTC-USD ($)')"
      ]
     },
     "execution_count": 95,
     "metadata": {},
     "output_type": "execute_result"
    },
    {
     "data": {
      "image/png": "[encoded data removed]",
      "text/plain": [
       "<Figure size 432x288 with 2 Axes>"
      ]
     },
     "metadata": {
      "needs_background": "light"
     },
     "output_type": "display_data"
    }
   ],
   "source": [
    "#define subplots\n",
    "col1 = 'steelblue'\n",
    "col2 = 'green'\n",
    "fig,ax = plt.subplots()\n",
    "\n",
    "#add first line to plot\n",
    "ax.plot(X, color=col1)\n",
    "#add x-axis label\n",
    "ax.set_xlabel('Year', fontsize=14)\n",
    "#add y-axis label\n",
    "ax.set_ylabel('Transactions', color=col1, fontsize=16)\n",
    "#define second y-axis that shares x-axis with current plot\n",
    "ax2 = ax.twinx()\n",
    "#add second line to plot\n",
    "ax2.plot(y, color=col2)\n",
    "#add second y-axis label\n",
    "ax2.set_ylabel('BTC-USD ($)', color=col2, fontsize=16)"
   ]
  },
  {
   "cell_type": "markdown",
   "id": "2e4e616e",
   "metadata": {},
   "source": [
    "As you can see in the plot above, you can see that the pattern of the peaks and throughs of the number of transactions is resembles the peaks and throughs of the price. This could mean that they interact with each other. "
   ]
  },
  {
   "cell_type": "code",
   "execution_count": 100,
   "id": "ab77176f",
   "metadata": {},
   "outputs": [
    {
     "data": {
      "text/html": [
       "<div>\n",
       "<style scoped>\n",
       "    .dataframe tbody tr th:only-of-type {\n",
       "        vertical-align: middle;\n",
       "    }\n",
       "\n",
       "    .dataframe tbody tr th {\n",
       "        vertical-align: top;\n",
       "    }\n",
       "\n",
       "    .dataframe thead th {\n",
       "        text-align: right;\n",
       "    }\n",
       "</style>\n",
       "<table border=\"1\" class=\"dataframe\">\n",
       "  <thead>\n",
       "    <tr style=\"text-align: right;\">\n",
       "      <th></th>\n",
       "      <th>Price</th>\n",
       "      <th>Transactions</th>\n",
       "    </tr>\n",
       "  </thead>\n",
       "  <tbody>\n",
       "    <tr>\n",
       "      <th>Price</th>\n",
       "      <td>1.000000</td>\n",
       "      <td>-0.104293</td>\n",
       "    </tr>\n",
       "    <tr>\n",
       "      <th>Transactions</th>\n",
       "      <td>-0.104293</td>\n",
       "      <td>1.000000</td>\n",
       "    </tr>\n",
       "  </tbody>\n",
       "</table>\n",
       "</div>"
      ],
      "text/plain": [
       "                 Price  Transactions\n",
       "Price         1.000000     -0.104293\n",
       "Transactions -0.104293      1.000000"
      ]
     },
     "execution_count": 100,
     "metadata": {},
     "output_type": "execute_result"
    }
   ],
   "source": [
    "df.corr()"
   ]
  },
  {
   "cell_type": "markdown",
   "id": "e024d497",
   "metadata": {},
   "source": [
    ".corr() here is used to calculate the relationship between the price and transactions, you can see that they have a correlation of -0.10, which means that they are badly correlated.\n",
    "- perfect correlation: 1.0\n",
    "- good correlation: corr >= 0.6\n",
    "- bad correlation: corr < 0.6"
   ]
  },
  {
   "cell_type": "code",
   "execution_count": 77,
   "id": "aab1ee43",
   "metadata": {},
   "outputs": [],
   "source": [
    "split = int(0.9*len(X))\n",
    "X_train, y_train = X[:split], y[:split]\n",
    "X_test, y_test = X[split:], y[split:]"
   ]
  },
  {
   "cell_type": "code",
   "execution_count": 78,
   "id": "8f8b6b4c",
   "metadata": {},
   "outputs": [
    {
     "data": {
      "text/plain": [
       "((548, 1), (548, 1), (61, 1), (61, 1))"
      ]
     },
     "execution_count": 78,
     "metadata": {},
     "output_type": "execute_result"
    }
   ],
   "source": [
    "X_train.shape, y_train.shape, X_test.shape, y_test.shape"
   ]
  },
  {
   "cell_type": "code",
   "execution_count": null,
   "id": "b9b6ac09",
   "metadata": {},
   "outputs": [],
   "source": []
  }
 ],
 "metadata": {
  "kernelspec": {
   "display_name": "Python 3 (ipykernel)",
   "language": "python",
   "name": "python3"
  },
  "language_info": {
   "codemirror_mode": {
    "name": "ipython",
    "version": 3
   },
   "file_extension": ".py",
   "mimetype": "text/x-python",
   "name": "python",
   "nbconvert_exporter": "python",
   "pygments_lexer": "ipython3",
   "version": "3.8.13"
  }
 },
 "nbformat": 4,
 "nbformat_minor": 5
}
